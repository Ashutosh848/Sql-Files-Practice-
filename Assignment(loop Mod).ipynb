{
 "cells": [
  {
   "cell_type": "code",
   "execution_count": 5,
   "id": "0ebc370c-8ac2-4264-84ec-f1956eeac929",
   "metadata": {},
   "outputs": [
    {
     "name": "stdout",
     "output_type": "stream",
     "text": [
      "Ashutosh\n",
      "Ishika\n",
      "Enna\n"
     ]
    }
   ],
   "source": [
    "#Using a for loop, iterate over a list of strings and print only those that start with a vowel.\n",
    "l = ['Ashutosh','Yashika','Ishika','Enna']\n",
    "for i in l:\n",
    "    if (i[0]=='A'or i[0]=='E' or i[0]=='I' or i[0]=='O' or i[0]=='U'):\n",
    "        print(i)"
   ]
  },
  {
   "cell_type": "code",
   "execution_count": 9,
   "id": "e57bc28d-0b93-41ae-81c4-9a1a819622b8",
   "metadata": {},
   "outputs": [
    {
     "name": "stdout",
     "output_type": "stream",
     "text": [
      "3715891200\n"
     ]
    }
   ],
   "source": [
    "#Write a while loop that calculates the product of all even numbers between 1 and 20\n",
    "p = 1\n",
    "n = 1\n",
    "while(n<=20):\n",
    "    if(n%2==0):\n",
    "        p*=n\n",
    "    n+=1\n",
    "print(p)"
   ]
  },
  {
   "cell_type": "code",
   "execution_count": 12,
   "id": "9abdf7dc-03b6-45cc-9b5d-eef01a2fc899",
   "metadata": {},
   "outputs": [
    {
     "name": "stdout",
     "output_type": "stream",
     "text": [
      "1 x 7 =7 \n",
      "2 x 7 =14 \n",
      "3 x 7 =21 \n",
      "4 x 7 =28 \n",
      "5 x 7 =35 \n",
      "6 x 7 =42 \n",
      "7 x 7 =49 \n",
      "8 x 7 =56 \n",
      "9 x 7 =63 \n",
      "10 x 7 =70 \n"
     ]
    }
   ],
   "source": [
    "#Using a for loop, print the multiplication table of 7.\n",
    "n = 7\n",
    "for i in range(1,10+1):\n",
    "    print(f\"{i} x {n} ={i*n} \")"
   ]
  },
  {
   "cell_type": "code",
   "execution_count": 15,
   "id": "204bebeb-3dba-4adf-996c-badfb6ff5890",
   "metadata": {},
   "outputs": [
    {
     "name": "stdin",
     "output_type": "stream",
     "text": [
      "Enter a val: 4\n",
      " adjad\n",
      " adowdqj\n",
      " stop\n"
     ]
    },
    {
     "name": "stdout",
     "output_type": "stream",
     "text": [
      "['adjad', 'adowdqj', 'stop']\n"
     ]
    }
   ],
   "source": [
    "#Write a while loop that continuously takes user input and adds it to a list until the user enters&#39;stop&#39;.\n",
    "n = int(input(\"Enter a val:\"))\n",
    "i = 1\n",
    "a = []\n",
    "while(i<=n):\n",
    "    val = input()\n",
    "    a.append(val)\n",
    "    if val == 'stop':\n",
    "        break\n",
    "print(a)"
   ]
  },
  {
   "cell_type": "code",
   "execution_count": 24,
   "id": "b2ba0f8d-f35c-4170-99a4-3e326629de39",
   "metadata": {},
   "outputs": [
    {
     "name": "stdout",
     "output_type": "stream",
     "text": [
      "16364\n"
     ]
    }
   ],
   "source": [
    "#Create a for loop that iterates over a list of numbers and prints the sum of squares of even numbers\n",
    "n = [1,2,3,4,6,7,21,23,45,88,92]\n",
    "sum = 0\n",
    "for i in n:\n",
    "    if(i%2==0):\n",
    "        i = i**2\n",
    "    sum = sum + i \n",
    "print(sum)\n",
    "    "
   ]
  },
  {
   "cell_type": "code",
   "execution_count": 25,
   "id": "60c42e95-3dd9-4210-87a4-e5d9876fc5d5",
   "metadata": {},
   "outputs": [
    {
     "name": "stdin",
     "output_type": "stream",
     "text": [
      " 5\n"
     ]
    },
    {
     "name": "stdout",
     "output_type": "stream",
     "text": [
      "120\n"
     ]
    }
   ],
   "source": [
    "#Using a while loop, calculate the factorial of a number provided by the user.\n",
    "i = 1\n",
    "n = int(input())\n",
    "fact = 1\n",
    "\n",
    "while(i<=n):\n",
    "    fact = fact * i\n",
    "    i+=1\n",
    "print(fact)"
   ]
  },
  {
   "cell_type": "code",
   "execution_count": 28,
   "id": "6548b88f-594e-49b8-9128-df9c05e2eb88",
   "metadata": {},
   "outputs": [
    {
     "name": "stdout",
     "output_type": "stream",
     "text": [
      "30\n"
     ]
    }
   ],
   "source": [
    "#Write a for loop that iterates over two lists simultaneously and prints the sum of corresponding elements.\n",
    "n = [1,2,3,4,5]\n",
    "a = [1,2,3,4,5]\n",
    "sum = 0\n",
    "for i,j in zip(n,a):\n",
    "    sum = sum + i + j\n",
    "print(sum)\n",
    "    "
   ]
  },
  {
   "cell_type": "code",
   "execution_count": 29,
   "id": "fdf41570-61c9-40e3-9368-f1b660b1d836",
   "metadata": {},
   "outputs": [
    {
     "name": "stdin",
     "output_type": "stream",
     "text": [
      " 123\n"
     ]
    },
    {
     "name": "stdout",
     "output_type": "stream",
     "text": [
      "321\n"
     ]
    }
   ],
   "source": [
    "#Create a while loop that reverses the digits of a number provided by the user.\n",
    "n = int(input())\n",
    "rev = 0\n",
    "while(n!=0):\n",
    "    digit = n%10\n",
    "    rev = (rev*10) + digit\n",
    "    n//=10\n",
    "print(rev)"
   ]
  },
  {
   "cell_type": "code",
   "execution_count": 30,
   "id": "30d11aef-c305-4db9-a67c-89970ee254f7",
   "metadata": {},
   "outputs": [
    {
     "name": "stdout",
     "output_type": "stream",
     "text": [
      "[1, 9, 25, 49, 81, 121, 169]\n"
     ]
    }
   ],
   "source": [
    "#Using a for loop, iterate through a list and create a new list containing the squares of only the odd numbers\n",
    "a = [1,2,3,4,5,6,7,9,11,13]\n",
    "l = []\n",
    "for i in a:\n",
    "    if(i%2!=0):\n",
    "        i = i**2\n",
    "        l.append(i)\n",
    "print(l)"
   ]
  },
  {
   "cell_type": "code",
   "execution_count": 35,
   "id": "3cb9a470-b59a-4313-9fc2-6c338efa7921",
   "metadata": {},
   "outputs": [
    {
     "name": "stdout",
     "output_type": "stream",
     "text": [
      "5\n"
     ]
    }
   ],
   "source": [
    "#Using a for loop, count how many words in a list of strings have more than 5 characters\n",
    "a = ['ashutosh','asdjiw','asdoaiwa','aldkakdaodi','kaso','ad','askjdakdiw','ald']\n",
    "count = 0\n",
    "for i in a:\n",
    "    if(len(i)>5):\n",
    "        count+=1\n",
    "print(count)"
   ]
  },
  {
   "cell_type": "code",
   "execution_count": 37,
   "id": "e4c04aa0-e457-4d8c-9372-a69e0d89e9ef",
   "metadata": {},
   "outputs": [
    {
     "name": "stdin",
     "output_type": "stream",
     "text": [
      " 4\n",
      " 5\n",
      " 2\n",
      " 4\n",
      " 7\n"
     ]
    },
    {
     "name": "stdout",
     "output_type": "stream",
     "text": [
      "7\n"
     ]
    }
   ],
   "source": [
    "#Create a while loop that generates and prints a random number between 1 and 10 until the number 7 is generated.\n",
    "n = int(input())\n",
    "while(n!=7):\n",
    "    n = int(input())\n",
    "print(n)"
   ]
  },
  {
   "cell_type": "code",
   "execution_count": 43,
   "id": "d5dae4e8-fd68-4de6-9b29-67e202b0fc98",
   "metadata": {},
   "outputs": [
    {
     "name": "stdin",
     "output_type": "stream",
     "text": [
      " 913913\n",
      " 12\n"
     ]
    },
    {
     "name": "stdout",
     "output_type": "stream",
     "text": [
      "The final age is 12 \n"
     ]
    }
   ],
   "source": [
    "#14. Using a while loop, continuously prompt the user to input their age and validate that it’s a number between 1 and 120\n",
    "n = int(input())\n",
    "while(n>120):\n",
    "    n = int(input())\n",
    "print(f\"The final age is {n} \")"
   ]
  },
  {
   "cell_type": "code",
   "execution_count": 57,
   "id": "fe1a8928-3ce2-48f3-aa41-0bd039c36f09",
   "metadata": {},
   "outputs": [
    {
     "name": "stdout",
     "output_type": "stream",
     "text": [
      "5\n",
      "6\n"
     ]
    }
   ],
   "source": [
    "#Create a for loop that iterates over a list of integers and finds the index of the maximum value\n",
    "a = [2,3,4,1,5,6]\n",
    "max = a[0]\n",
    "for i in a:\n",
    "    if (i>max):\n",
    "        max = i\n",
    "print(a.index(max))\n",
    "print(max)"
   ]
  },
  {
   "cell_type": "code",
   "execution_count": 56,
   "id": "8881af7b-e17f-4e8f-ac73-2413ebe82cc6",
   "metadata": {},
   "outputs": [
    {
     "name": "stdin",
     "output_type": "stream",
     "text": [
      " 1234\n"
     ]
    },
    {
     "name": "stdout",
     "output_type": "stream",
     "text": [
      "It is not a Palindrome No\n"
     ]
    }
   ],
   "source": [
    "#17. Using a for loop, write a program that checks if a number is a palindrome.\n",
    "n = input()\n",
    "temp = int(n)\n",
    "rev = ''\n",
    "for i in n:\n",
    "    rev = i + rev\n",
    "re1 = int(rev)\n",
    "\n",
    "if(temp == re1):\n",
    "    print(\"Palindrome\")\n",
    "else:\n",
    "    print(\"It is not a Palindrome No\")"
   ]
  },
  {
   "cell_type": "code",
   "execution_count": 58,
   "id": "d0365e4d-f64e-4fe7-b21f-a919bc411bc5",
   "metadata": {},
   "outputs": [
    {
     "name": "stdout",
     "output_type": "stream",
     "text": [
      "ASHUTOSH\n",
      "YASHIKA\n",
      "MEENAL\n",
      "KIRTI\n",
      "RAHUL\n"
     ]
    }
   ],
   "source": [
    "a = ['Ashutosh','Yashika','Meenal','Kirti','Rahul']\n",
    "for i in a:\n",
    "    print(i.upper())"
   ]
  },
  {
   "cell_type": "code",
   "execution_count": 62,
   "id": "41ca69f4-9475-4374-97a8-24a769d34cbe",
   "metadata": {},
   "outputs": [
    {
     "name": "stdout",
     "output_type": "stream",
     "text": [
      "countdown begins 10\n",
      "countdown begins 9\n",
      "countdown begins 8\n",
      "countdown begins 7\n",
      "countdown begins 6\n",
      "countdown begins 5\n",
      "countdown begins 4\n",
      "countdown begins 3\n",
      "countdown begins 2\n",
      "countdown begins 1\n",
      "countdown begins 0\n"
     ]
    }
   ],
   "source": [
    "a = 10\n",
    "while(a>=0):\n",
    "    print(f\"countdown begins {a}\")\n",
    "    a-=1"
   ]
  },
  {
   "cell_type": "code",
   "execution_count": null,
   "id": "d76e0f63-d7b6-4f70-aa41-3a70e68b044e",
   "metadata": {},
   "outputs": [],
   "source": []
  }
 ],
 "metadata": {
  "kernelspec": {
   "display_name": "Python 3 (ipykernel)",
   "language": "python",
   "name": "python3"
  },
  "language_info": {
   "codemirror_mode": {
    "name": "ipython",
    "version": 3
   },
   "file_extension": ".py",
   "mimetype": "text/x-python",
   "name": "python",
   "nbconvert_exporter": "python",
   "pygments_lexer": "ipython3",
   "version": "3.11.7"
  }
 },
 "nbformat": 4,
 "nbformat_minor": 5
}
